{
  "cells": [
    {
      "cell_type": "markdown",
      "metadata": {
        "id": "view-in-github",
        "colab_type": "text"
      },
      "source": [
        "<a href=\"https://colab.research.google.com/github/jesolisp/Fractional_Numerical_Methods/blob/main/01_Metodo_Euler_fraccionario.ipynb\" target=\"_parent\"><img src=\"https://colab.research.google.com/assets/colab-badge.svg\" alt=\"Open In Colab\"/></a>"
      ]
    },
    {
      "cell_type": "markdown",
      "id": "e856e5bf",
      "metadata": {
        "id": "e856e5bf"
      },
      "source": [
        "![logo_pagina.png](logo_pagina.png \"Cálculo fraccionario, difusión y +\")"
      ]
    },
    {
      "cell_type": "code",
      "execution_count": null,
      "id": "b15e6d57",
      "metadata": {
        "ExecuteTime": {
          "end_time": "2022-06-24T01:28:14.801163Z",
          "start_time": "2022-06-24T01:28:12.730638Z"
        },
        "id": "b15e6d57"
      },
      "outputs": [],
      "source": [
        "# Librerias necesarias\n",
        "import time\n",
        "import math\n",
        "import numpy as np\n",
        "from utils.mittag_leffler import ml\n",
        "from numba import jit, prange\n",
        "import matplotlib.pyplot as plt\n",
        "import pandas as pd\n",
        "\n",
        "plt.rcParams['figure.figsize'] = [8.0, 8.0]\n",
        "plt.rcParams['figure.dpi'] = 300\n",
        "%matplotlib inline"
      ]
    },
    {
      "cell_type": "markdown",
      "id": "341d5895",
      "metadata": {
        "id": "341d5895"
      },
      "source": [
        "# Método de Euler Fraccionario\n",
        "En este cuaderno vamos a presentar la solución numérica a problemas de valor inicial. Para ello, consideramos la siguiente ecuación diferencial ordinaria fraccionaria\n",
        "\n",
        "\\begin{equation}\n",
        " \\label{fode}\n",
        " {}^{*}_{0}\\mathcal{D}_{t}^{\\alpha}~ y(t) = f\\left(t,y(t) \\right), \\quad m-1 < \\alpha < m,\n",
        "\\end{equation}\n",
        "\n",
        "\\begin{equation}\n",
        " y^{j}(0) = y_{0}^{j}, \\quad j = 0,1,\\dots,n-1.\n",
        "\\end{equation}\n",
        "\n",
        "Considerando que \\eqref{fode} tiene una solución única $f(t)$ y que $f(t,y(t))$ satisface algunas condiciones suaves, entonces ${}^{*}_{0}\\mathcal{D}_{t}^{\\alpha}~ y(t)$ es aproximada por la fórmula rectangular fraccionaria izquierda. \n",
        "\n",
        "La función $f(t)$ es aproximada por una constante en cada subintervalo $\\left[ t_{k},t_{k+1} \\right],~k=0,1,\\dots,n-1$, *i.e.*,\n",
        "\n",
        "\\begin{equation}\n",
        " \\left. f(t) \\right|_{[t_{k},t_{k+1})} \\approx \\left. \\tilde{f}(t) \\right|_{[t_{k},t_{k+1})} = f(t_{k}),\n",
        "\\end{equation}\n",
        "\n",
        "donde obtenemos\n",
        "\n",
        "\\begin{equation}\n",
        " \\begin{aligned}\n",
        "  \\left. {}^{*}_{0}\\mathcal{I}_{t}^{\\alpha}~ y(t) \\right|_{t = t_{n}} &= \\frac{1}{\\Gamma{(\\alpha})} \\sum_{k=0}^{n-1}\\int_{t_{k}}^{t_{k+1}} \\left( t_{n} - s \\right)^{\\alpha-1}f(s)\\mathrm{d}s, \\\\\n",
        "  & \\approx \\frac{1}{\\Gamma{(\\alpha})} \\sum_{k=0}^{n-1}\\int_{t_{k}}^{t_{k+1}} \\left( t_{n} - s \\right)^{\\alpha-1}f(t_{k})\\mathrm{d}s, \\\\\n",
        "  & = \\sum_{k=0}^{n-1} b_{n-k-1}f(t_{k}),\n",
        " \\end{aligned}\n",
        "\\end{equation}\n",
        "\n",
        "donde\n",
        "\n",
        "\\begin{equation}\n",
        " b_{k} = \\frac{\\Delta t^{\\alpha}}{\\Gamma(\\alpha+1)} \\left[ (k+1)^{\\alpha} - k^{\\alpha} \\right].\n",
        "\\end{equation}\n",
        "\n",
        "Por lo tanto, la **fórmula rectangular fraccionaria izquierda** está dada como sigue\n",
        "\n",
        "\\begin{equation}\n",
        " \\left. {}^{*}_{0}\\mathcal{I}_{t}^{\\alpha}~ y(t) \\right|_{t = t_{n}} \\approx \\sum_{k=0}^{n-1} b_{n-k-1}f\\left(t_{k}\\right).\n",
        "\\end{equation}\n",
        "\n",
        "La solución a una ecuación de la forma \\eqref{fode}, se obtiene a partir del **método de Euler fraccionario forward** dado como sigue\n",
        "\n",
        "\\begin{equation}\n",
        " \\label{ffem}\n",
        " y_{n+1} = \\sum_{j=0}^{m-1} \\frac{t_{n+1}^{j}}{j!}y_{0}^{(j)} + \\Delta t^{\\alpha} \\sum_{j=0}^{n} b_{j,n+1} f\\left(t_{j},y_{j}\\right),\n",
        "\\end{equation}\n",
        "\n",
        "donde \n",
        "\n",
        "\\begin{equation}\n",
        " b_{j,n+1} = \\frac{1}{\\Gamma(\\alpha+1)} \\left[ \\left( n - j + 1 \\right)^{\\alpha} - \\left( n-j \\right)^{\\alpha} \\right].\n",
        "\\end{equation}\n",
        "\n",
        "**Nota.** Si $\\alpha = 1$, el método \\eqref{ffem} se reduce al método clásico de Euler forward."
      ]
    },
    {
      "cell_type": "markdown",
      "id": "e2a80d7a",
      "metadata": {
        "id": "e2a80d7a"
      },
      "source": [
        "# Ejemplos numéricos\n",
        "Para mostrar algunos resultados numéricos, utilizamos los ejemplos reportados por Li y Zeng (2015). El lenguaje de programación a utilizar para obtener soluciones aproximadas a ecuaciones diferenciales ordinarias fraccionarias es Python con Numba y Jit para optimizar el cálculo numérico."
      ]
    },
    {
      "cell_type": "markdown",
      "id": "5f2e20ca",
      "metadata": {
        "id": "5f2e20ca"
      },
      "source": [
        "## Ejemplo 1.\n",
        "Considere la siguiente ecuación diferencial ordinaria fraccionaria no lineal\n",
        "\n",
        "\\begin{equation}\n",
        " {}^{*}_{0}\\mathcal{D}_{t}^{\\alpha}~ y(t) = -y(t) + \\frac{t^{4-\\alpha}}{\\Gamma(5-\\alpha)}, \\quad 0 < \\alpha < 1, t>0,\n",
        "\\end{equation}\n",
        "\n",
        "cuya solución exacta está dada como sigue\n",
        "\n",
        "\\begin{equation}\n",
        " \\label{sol_exacta_1}\n",
        " y(t) = t^{4} E_{\\alpha,5}(-t^{\\alpha}),\n",
        "\\end{equation}\n",
        "\n",
        "donde\n",
        "\n",
        "\\begin{equation}\n",
        " E_{\\alpha,\\beta}(z) = \\sum_{k=0}^{\\infty} \\frac{z^{k}}{\\Gamma(\\alpha k + \\beta)},\n",
        "\\end{equation}\n",
        "\n",
        "considerando las siguientes condiciones iniciales\n",
        "\n",
        "\\begin{equation*}\n",
        " y(0) = 0.\n",
        "\\end{equation*}\n",
        "\n",
        "La siguiente Figura muestra la trayectoria de \\eqref{sol_exacta_1} considerando $t=1$, $\\Delta t = 1\\times 10^{-2}$, $\\alpha = 0.1$ y $\\beta = 5$."
      ]
    },
    {
      "cell_type": "markdown",
      "id": "51fb8410",
      "metadata": {
        "id": "51fb8410"
      },
      "source": [
        "Definimos entonces una función que reciba como parámetros la condición inicial, el paso de integración así como el tiempo de simulación. "
      ]
    },
    {
      "cell_type": "code",
      "execution_count": null,
      "id": "d3e65309",
      "metadata": {
        "ExecuteTime": {
          "end_time": "2022-06-24T01:28:20.284461Z",
          "start_time": "2022-06-24T01:28:20.206224Z"
        },
        "id": "d3e65309"
      },
      "outputs": [],
      "source": [
        "# Método de Euler fraccionario forward\n",
        "@jit(nopython=True)\n",
        "def forward_Euler_method(y0, Delta_t, tfin, alpha, beta):\n",
        "    N = np.int64(np.ceil((tfin-Delta_t)/Delta_t)) # Número de puntos de la solución numérica\n",
        "    t = Delta_t + np.arange(0,N+1)*Delta_t # Vector de tiempo\n",
        "        \n",
        "    # Variable declarada para reducir costo computacional y evitar que en cada iteración se vuelva a calcular un valor constante\n",
        "    gamma_alpha = math.gamma(alpha + 1.0)\n",
        "    \n",
        "    # EDO fraccionaria\n",
        "    gamma_five_alpha = math.gamma(5 - alpha) # Variable declarada para reducir costo computacional y evitar que en cada iteración se vuelva a calcular un valor constante\n",
        "    f = lambda t, y : - y + (1/gamma_five_alpha)*np.power(t,4 - alpha)\n",
        "\n",
        "    # Initial conditions\n",
        "    y = np.zeros(N+1)\n",
        "    y[0] = y0\n",
        "\n",
        "    for n in prange(N):\n",
        "        sum_bj = 0\n",
        "\n",
        "        for j in prange(n+1):\n",
        "            bj = np.power(n-j+1,alpha) - np.power(n-j,alpha)\n",
        "            sum_bj = sum_bj + bj*f(t[j],y[j])\n",
        "            \n",
        "        y[n+1] = y[0] + np.power(Delta_t,alpha)*(1/gamma_alpha)*sum_bj\n",
        "\n",
        "    return t, y"
      ]
    },
    {
      "cell_type": "code",
      "execution_count": null,
      "id": "f7d33d1e",
      "metadata": {
        "ExecuteTime": {
          "end_time": "2022-06-24T01:28:30.798492Z",
          "start_time": "2022-06-24T01:28:30.754715Z"
        },
        "id": "f7d33d1e",
        "outputId": "b11445aa-299c-4a7f-ad4b-01430bfbd1a7"
      },
      "outputs": [
        {
          "name": "stdout",
          "output_type": "stream",
          "text": [
            "--- 0.0001614093780517578 segundos ---\n"
          ]
        },
        {
          "data": {
            "text/plain": [
              "0.0041205273742641844"
            ]
          },
          "execution_count": 4,
          "metadata": {},
          "output_type": "execute_result"
        }
      ],
      "source": [
        "y0 = 0 # Condición inicial del Ejemplo 1\n",
        "\n",
        "tfin = 1.0\n",
        "Delta_t = 1/10\n",
        "\n",
        "alpha = 0.1\n",
        "beta = 5\n",
        "\n",
        "start_time = time.time()\n",
        "t, y_num = forward_Euler_method(y0, Delta_t, tfin, alpha, beta)\n",
        "print(\"--- %s segundos ---\" % (time.time() - start_time))\n",
        "\n",
        "# Solución exacta\n",
        "y_exacta = lambda t, alpha, beta : np.power(t,4)*ml(-np.power(t,alpha),alpha,beta)\n",
        "\n",
        "error_absoluto = np.abs(y_exacta(t, alpha, beta) - y_num)\n",
        "ultimo_error = error_absoluto[-1]\n",
        "ultimo_error"
      ]
    },
    {
      "cell_type": "code",
      "execution_count": null,
      "id": "878994ea",
      "metadata": {
        "ExecuteTime": {
          "end_time": "2022-06-24T01:28:34.203260Z",
          "start_time": "2022-06-24T01:28:33.905222Z"
        },
        "id": "878994ea",
        "outputId": "5ed6d65c-4685-48d8-f903-de49001653dc"
      },
      "outputs": [
        {
          "data": {
            "image/png": "[encoded data removed]",
            "text/plain": [
              "<Figure size 432x288 with 1 Axes>"
            ]
          },
          "metadata": {
            "needs_background": "light"
          },
          "output_type": "display_data"
        }
      ],
      "source": [
        "plt.figure()\n",
        "plt.plot(t,y_exacta(t, alpha, beta))\n",
        "plt.plot(t,y_num)\n",
        "plt.xlabel('t')\n",
        "plt.ylabel('y(t)')\n",
        "plt.grid('on')\n",
        "plt.axis('tight')\n",
        "plt.show()"
      ]
    },
    {
      "cell_type": "markdown",
      "id": "4207f826",
      "metadata": {
        "id": "4207f826"
      },
      "source": [
        "## Creación de la Tabla 3.4 de la página 111 del libro de Li y Zeng (2015)"
      ]
    },
    {
      "cell_type": "code",
      "execution_count": null,
      "id": "d8bf29af",
      "metadata": {
        "ExecuteTime": {
          "end_time": "2022-06-24T01:28:57.757536Z",
          "start_time": "2022-06-24T01:28:48.854964Z"
        },
        "id": "d8bf29af"
      },
      "outputs": [],
      "source": [
        "alpha = np.array([0.1, 0.3, 0.5, 0.7, 0.9])\n",
        "Delta_t = np.array([10, 20, 40, 80, 160, 320, 640])\n",
        "\n",
        "table = np.zeros( (len(Delta_t), len(alpha)) )\n",
        "\n",
        "\n",
        "for f in prange(len(Delta_t)):\n",
        "    for c in prange(len(alpha)):\n",
        "        t, y_num = forward_Euler_method(y0, 1/Delta_t[f], tfin, alpha[c], beta)\n",
        "        \n",
        "        error_absoluto = np.abs(y_exacta(t, alpha[c], beta) - y_num)\n",
        "        ultimo_error = error_absoluto[-1]\n",
        "        table[f,c] = ultimo_error"
      ]
    },
    {
      "cell_type": "code",
      "execution_count": null,
      "id": "d385e150",
      "metadata": {
        "ExecuteTime": {
          "end_time": "2022-06-24T01:29:00.707987Z",
          "start_time": "2022-06-24T01:29:00.680399Z"
        },
        "id": "d385e150",
        "outputId": "703d219c-6300-40c2-dd53-b5e734bc4d04"
      },
      "outputs": [
        {
          "data": {
            "text/html": [
              "<div>\n",
              "<style scoped>\n",
              "    .dataframe tbody tr th:only-of-type {\n",
              "        vertical-align: middle;\n",
              "    }\n",
              "\n",
              "    .dataframe tbody tr th {\n",
              "        vertical-align: top;\n",
              "    }\n",
              "\n",
              "    .dataframe thead th {\n",
              "        text-align: right;\n",
              "    }\n",
              "</style>\n",
              "<table border=\"1\" class=\"dataframe\">\n",
              "  <thead>\n",
              "    <tr style=\"text-align: right;\">\n",
              "      <th></th>\n",
              "      <th>0.1</th>\n",
              "      <th>0.3</th>\n",
              "      <th>0.5</th>\n",
              "      <th>0.7</th>\n",
              "      <th>0.9</th>\n",
              "    </tr>\n",
              "  </thead>\n",
              "  <tbody>\n",
              "    <tr>\n",
              "      <th>10</th>\n",
              "      <td>0.004121</td>\n",
              "      <td>0.004140</td>\n",
              "      <td>0.004282</td>\n",
              "      <td>0.004557</td>\n",
              "      <td>0.004939</td>\n",
              "    </tr>\n",
              "    <tr>\n",
              "      <th>20</th>\n",
              "      <td>0.002019</td>\n",
              "      <td>0.001979</td>\n",
              "      <td>0.002051</td>\n",
              "      <td>0.002221</td>\n",
              "      <td>0.002455</td>\n",
              "    </tr>\n",
              "    <tr>\n",
              "      <th>40</th>\n",
              "      <td>0.000986</td>\n",
              "      <td>0.000946</td>\n",
              "      <td>0.000989</td>\n",
              "      <td>0.001089</td>\n",
              "      <td>0.001222</td>\n",
              "    </tr>\n",
              "    <tr>\n",
              "      <th>80</th>\n",
              "      <td>0.000481</td>\n",
              "      <td>0.000454</td>\n",
              "      <td>0.000480</td>\n",
              "      <td>0.000537</td>\n",
              "      <td>0.000609</td>\n",
              "    </tr>\n",
              "    <tr>\n",
              "      <th>160</th>\n",
              "      <td>0.000234</td>\n",
              "      <td>0.000219</td>\n",
              "      <td>0.000235</td>\n",
              "      <td>0.000266</td>\n",
              "      <td>0.000304</td>\n",
              "    </tr>\n",
              "    <tr>\n",
              "      <th>320</th>\n",
              "      <td>0.000114</td>\n",
              "      <td>0.000106</td>\n",
              "      <td>0.000116</td>\n",
              "      <td>0.000132</td>\n",
              "      <td>0.000152</td>\n",
              "    </tr>\n",
              "    <tr>\n",
              "      <th>640</th>\n",
              "      <td>0.000056</td>\n",
              "      <td>0.000052</td>\n",
              "      <td>0.000057</td>\n",
              "      <td>0.000066</td>\n",
              "      <td>0.000076</td>\n",
              "    </tr>\n",
              "  </tbody>\n",
              "</table>\n",
              "</div>"
            ],
            "text/plain": [
              "          0.1       0.3       0.5       0.7       0.9\n",
              "10   0.004121  0.004140  0.004282  0.004557  0.004939\n",
              "20   0.002019  0.001979  0.002051  0.002221  0.002455\n",
              "40   0.000986  0.000946  0.000989  0.001089  0.001222\n",
              "80   0.000481  0.000454  0.000480  0.000537  0.000609\n",
              "160  0.000234  0.000219  0.000235  0.000266  0.000304\n",
              "320  0.000114  0.000106  0.000116  0.000132  0.000152\n",
              "640  0.000056  0.000052  0.000057  0.000066  0.000076"
            ]
          },
          "execution_count": 8,
          "metadata": {},
          "output_type": "execute_result"
        }
      ],
      "source": [
        "pd.DataFrame(table, columns = alpha, index = Delta_t)"
      ]
    },
    {
      "cell_type": "markdown",
      "id": "9389bc76",
      "metadata": {
        "id": "9389bc76"
      },
      "source": [
        "# Referencias\n",
        "* Li, C., & Zeng, F. (2015). *Numerical methods for fractional calculus* (Vol. 24). CRC Press."
      ]
    }
  ],
  "metadata": {
    "hide_input": false,
    "kernelspec": {
      "display_name": "Python 3 (ipykernel)",
      "language": "python",
      "name": "python3"
    },
    "language_info": {
      "codemirror_mode": {
        "name": "ipython",
        "version": 3
      },
      "file_extension": ".py",
      "mimetype": "text/x-python",
      "name": "python",
      "nbconvert_exporter": "python",
      "pygments_lexer": "ipython3",
      "version": "3.9.12"
    },
    "toc": {
      "base_numbering": 1,
      "nav_menu": {},
      "number_sections": true,
      "sideBar": true,
      "skip_h1_title": false,
      "title_cell": "Table of Contents",
      "title_sidebar": "Contents",
      "toc_cell": false,
      "toc_position": {},
      "toc_section_display": true,
      "toc_window_display": false
    },
    "varInspector": {
      "cols": {
        "lenName": 16,
        "lenType": 16,
        "lenVar": 40
      },
      "kernels_config": {
        "python": {
          "delete_cmd_postfix": "",
          "delete_cmd_prefix": "del ",
          "library": "var_list.py",
          "varRefreshCmd": "print(var_dic_list())"
        },
        "r": {
          "delete_cmd_postfix": ") ",
          "delete_cmd_prefix": "rm(",
          "library": "var_list.r",
          "varRefreshCmd": "cat(var_dic_list()) "
        }
      },
      "position": {
        "height": "271.844px",
        "left": "973px",
        "right": "20px",
        "top": "114px",
        "width": "334px"
      },
      "types_to_exclude": [
        "module",
        "function",
        "builtin_function_or_method",
        "instance",
        "_Feature"
      ],
      "window_display": false
    },
    "colab": {
      "name": "Metodo_Euler_fraccionario.ipynb",
      "provenance": [],
      "collapsed_sections": [],
      "include_colab_link": true
    }
  },
  "nbformat": 4,
  "nbformat_minor": 5
}