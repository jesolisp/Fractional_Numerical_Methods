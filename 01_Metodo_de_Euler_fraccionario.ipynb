{
  "cells": [
    {
      "cell_type": "markdown",
      "metadata": {
        "id": "view-in-github",
        "colab_type": "text"
      },
      "source": [
        "<a href=\"https://colab.research.google.com/github/jesolisp/Fractional_Numerical_Methods/blob/main/01_Metodo_de_Euler_fraccionario.ipynb\" target=\"_parent\"><img src=\"https://colab.research.google.com/assets/colab-badge.svg\" alt=\"Open In Colab\"/></a>"
      ]
    },
    {
      "cell_type": "markdown",
      "id": "836ad9b8",
      "metadata": {
        "id": "836ad9b8"
      },
      "source": [
        "![logo_pagina.png](logo_pagina.png \"Cálculo fraccionario, difusión y +\")\n",
        "\n",
        "---\n",
        "\n",
        "# Método de Euler fraccionario\n",
        "\n",
        "Cuaderno elaborado por [Solís-Pérez J.E.](scholar.google.com.mx/citations?user=97DFBiYAAAAJ) y [Gómez-Aguilar J.F. ](scholar.google.com.mx/citations?user=WjFY9UwAAAAJ) a partir del método numérico mostrado por Li y Zeng (2015).\n",
        " \n",
        "## Propósito\n",
        "En este cuaderno vamos a presentar la implementación del método de Euler fraccionario hacia adelante en Python para la solución numérica a algunos problemas de valor inicial.\n",
        "\n",
        "## Metodología\n",
        "Dada una ecuación diferencial ordinaria fraccionaria de la forma\n",
        "\n",
        "\\begin{equation}\n",
        " \\label{fode}\n",
        " {}^{*}_{0}\\mathcal{D}_{t}^{\\alpha}~ y(t) = f\\left(t,y(t) \\right), \\quad m-1 < \\alpha < m,\n",
        "\\end{equation}\n",
        "\n",
        "con condiciones iniciales\n",
        "\n",
        "\\begin{equation}\n",
        " y^{j}(0) = y_{0}^{j}, \\quad j = 0,1,\\dots,n-1.\n",
        "\\end{equation}\n",
        "\n",
        "Si tiene una solución única $f(t)$ y $f(t,y(t))$ satisface algunas condiciones suaves, entonces ${}^{*}_{0}\\mathcal{D}_{t}^{\\alpha}~ y(t)$ se puede aproximar por la fórmula rectangular fraccionaria izquierda en cada subintervalo $\\left[ t_{k},t_{k+1} \\right],~k=0,1,\\dots,n-1$, *i.e.*,\n",
        "\n",
        "\\begin{equation}\n",
        " \\left. y(t) \\right|_{[t_{k},t_{k+1})} \\approx \\left. \\tilde{y}(t) \\right|_{[t_{k},t_{k+1})} = y(t_{k}),\n",
        "\\end{equation}\n",
        "\n",
        "donde obtenemos\n",
        "\n",
        "\\begin{equation}\n",
        " \\begin{aligned}\n",
        "  \\left. {}^{*}_{0}\\mathcal{I}_{t}^{\\alpha}~ y(t) \\right|_{t = t_{n}} &= \\frac{1}{\\Gamma{(\\alpha})} \\sum_{k=0}^{n-1}\\int_{t_{k}}^{t_{k+1}} \\left( t_{n} - s \\right)^{\\alpha-1}f(s)\\mathrm{d}s, \\\\\n",
        "  & \\approx \\frac{1}{\\Gamma{(\\alpha})} \\sum_{k=0}^{n-1}\\int_{t_{k}}^{t_{k+1}} \\left( t_{n} - s \\right)^{\\alpha-1}f(t_{k})\\mathrm{d}s, \\\\\n",
        "  & \\approx \\sum_{k=0}^{n-1} b_{n-k-1}f(t_{k}),\n",
        " \\end{aligned}\n",
        "\\end{equation}\n",
        "\n",
        "donde\n",
        "\n",
        "\\begin{equation}\n",
        " b_{k} = \\frac{\\Delta t^{\\alpha}}{\\Gamma(\\alpha+1)} \\left[ (k+1)^{\\alpha} - k^{\\alpha} \\right].\n",
        "\\end{equation}\n",
        "\n",
        "La solución a una EDO de la forma \\eqref{fode}, se obtiene a partir del **método de Euler fraccionario hacia adelante** dado como sigue\n",
        "\n",
        "\\begin{equation}\n",
        " \\label{ffem}\n",
        " y_{n+1} = \\sum_{j=0}^{m-1} \\frac{t_{n+1}^{j}}{j!}y_{0}^{(j)} + \\Delta t^{\\alpha} \\sum_{j=0}^{n} b_{j,n+1} f\\left(t_{j},y_{j}\\right),\n",
        "\\end{equation}\n",
        "\n",
        "donde \n",
        "\n",
        "\\begin{equation}\n",
        " b_{j,n+1} = \\frac{1}{\\Gamma(\\alpha+1)} \\left[ \\left( n - j + 1 \\right)^{\\alpha} - \\left( n-j \\right)^{\\alpha} \\right].\n",
        "\\end{equation}\n",
        "\n",
        "**Nota.** Si $\\alpha = 1$, el método \\eqref{ffem} se reduce al método clásico de Euler hacia adelante."
      ]
    },
    {
      "cell_type": "markdown",
      "id": "3a60695a",
      "metadata": {
        "id": "3a60695a"
      },
      "source": [
        "# Configuración\n",
        "\n",
        "## Importación de librerías\n",
        "En esta sección se importan todas las librerías necesarias para llevar a cabo la implementación del método de Euler fraccionario."
      ]
    },
    {
      "cell_type": "code",
      "execution_count": null,
      "id": "e4938d36",
      "metadata": {
        "ExecuteTime": {
          "end_time": "2022-06-29T19:07:05.592347Z",
          "start_time": "2022-06-29T19:07:03.391141Z"
        },
        "id": "e4938d36"
      },
      "outputs": [],
      "source": [
        "# Librerias necesarias\n",
        "import time # Cálculo de tiempo de cómputo\n",
        "import math\n",
        "import numpy as np # Manipulación de datos\n",
        "from numba import jit, prange\n",
        "import pandas as pd # Manipulación de datos\n",
        "\n",
        "# Configuración de visualización\n",
        "import matplotlib.pyplot as plt\n",
        "plt.rcParams['figure.figsize'] = [8.0, 8.0]\n",
        "plt.rcParams['figure.dpi'] = 300\n",
        "%matplotlib inline"
      ]
    },
    {
      "cell_type": "markdown",
      "id": "5ad23520",
      "metadata": {
        "id": "5ad23520"
      },
      "source": [
        "## Importación de librerías locales\n",
        "En esta sección importamos todas las librerías locales para mostrar los resultados numéricos a soluciones exactas de EDOs. Por ejemplo, la implementación en Python por Hinsen (2017) de la función de Mittag-Leffler generalizada."
      ]
    },
    {
      "cell_type": "code",
      "execution_count": null,
      "id": "2f25c195",
      "metadata": {
        "ExecuteTime": {
          "end_time": "2022-06-29T17:50:40.488860Z",
          "start_time": "2022-06-29T17:50:40.365227Z"
        },
        "id": "2f25c195"
      },
      "outputs": [],
      "source": [
        "# Ruta de las librerias locales incluidas\n",
        "import sys\n",
        "sys.path.append('./utils')\n",
        "\n",
        "# Librerías locales\n",
        "from mittag_leffler import ml # Función de Mittag-Leffler generalizada"
      ]
    },
    {
      "cell_type": "markdown",
      "id": "afea2048",
      "metadata": {
        "id": "afea2048"
      },
      "source": [
        "# Definición de funciones"
      ]
    },
    {
      "cell_type": "code",
      "execution_count": null,
      "id": "72fd1184",
      "metadata": {
        "ExecuteTime": {
          "end_time": "2022-06-29T17:50:42.608223Z",
          "start_time": "2022-06-29T17:50:42.538075Z"
        },
        "id": "72fd1184"
      },
      "outputs": [],
      "source": [
        "@jit(nopython=True)\n",
        "def forward_Euler_method(y0, Delta_t, tfin, alpha):\n",
        "    \"\"\"Método de Euler fraccionario hacia adelante\"\"\"\n",
        "    \n",
        "    N = np.int64(np.ceil((tfin-Delta_t)/Delta_t)) # Número de puntos de la solución numérica\n",
        "    t = Delta_t + np.arange(0,N+1)*Delta_t # Vector de tiempo\n",
        "        \n",
        "    # Variable declarada para reducir costo computacional y evitar que en cada iteración se vuelva a calcular un valor constante\n",
        "    gamma_alpha = math.gamma(alpha + 1.0)\n",
        "    \n",
        "    # EDO fraccionaria\n",
        "    gamma_five_alpha = math.gamma(5 - alpha) # Variable declarada para reducir costo computacional y evitar que en cada iteración se vuelva a calcular un valor constante\n",
        "    f = lambda t, y : - y + (1/gamma_five_alpha)*np.power(t,4 - alpha)\n",
        "\n",
        "    # Initial conditions\n",
        "    y = np.zeros(N+1)\n",
        "    y[0] = y0\n",
        "\n",
        "    for n in prange(N):\n",
        "        sum_bj = 0\n",
        "\n",
        "        for j in prange(n+1):\n",
        "            bj = np.power(n-j+1,alpha) - np.power(n-j,alpha) # Fórmula rectangular fraccionaria izquierda\n",
        "            sum_bj = sum_bj + bj*f(t[j],y[j])\n",
        "            \n",
        "        y[n+1] = y[0] + np.power(Delta_t,alpha)*(1/gamma_alpha)*sum_bj\n",
        "\n",
        "    return t, y"
      ]
    },
    {
      "cell_type": "markdown",
      "id": "9e2c1cdf",
      "metadata": {
        "id": "9e2c1cdf"
      },
      "source": [
        "# Resultados numéricos\n",
        "Para mostrar algunos resultados numéricos, utilizamos los ejemplos reportados por Li y Zeng (2015). El lenguaje de programación a utilizar para obtener soluciones aproximadas a ecuaciones diferenciales ordinarias fraccionarias es Python con Numba y Jit para optimizar el cálculo numérico.\n",
        "\n",
        "## Ejemplo 1. Ecuación Diferencial Ordinaria No Lineal Fraccionaria\n",
        "Considere la siguiente ecuación diferencial ordinaria fraccionaria no lineal\n",
        "\n",
        "\\begin{equation}\n",
        " {}^{*}_{0}\\mathcal{D}_{t}^{\\alpha}~ y(t) = -y(t) + \\frac{t^{4-\\alpha}}{\\Gamma(5-\\alpha)}, \\quad 0 < \\alpha < 1, t>0,\n",
        "\\end{equation}\n",
        "\n",
        "cuya solución exacta está dada como sigue\n",
        "\n",
        "\\begin{equation}\n",
        " \\label{sol_exacta_1}\n",
        " y(t) = t^{4} E_{\\alpha,5}(-t^{\\alpha}),\n",
        "\\end{equation}\n",
        "\n",
        "donde\n",
        "\n",
        "\\begin{equation}\n",
        " E_{\\alpha,\\beta}(z) = \\sum_{k=0}^{\\infty} \\frac{z^{k}}{\\Gamma(\\alpha k + \\beta)},\n",
        "\\end{equation}\n",
        "\n",
        "considerando las siguientes condiciones iniciales\n",
        "\n",
        "\\begin{equation*}\n",
        " y(0) = 0.\n",
        "\\end{equation*}"
      ]
    },
    {
      "cell_type": "code",
      "execution_count": null,
      "id": "c6ab2b15",
      "metadata": {
        "ExecuteTime": {
          "end_time": "2022-06-29T17:50:49.038303Z",
          "start_time": "2022-06-29T17:50:47.087302Z"
        },
        "id": "c6ab2b15"
      },
      "outputs": [],
      "source": [
        "y0 = 0 # Condición inicial del Ejemplo 1\n",
        "\n",
        "tfin = 1.0 # Tiempo de simulación\n",
        "Delta_t = 1/10 # Paso de integración\n",
        "\n",
        "# Ordenes fraccionarios\n",
        "alpha = 0.1\n",
        "\n",
        "start_time = time.time()\n",
        "t, y_num = forward_Euler_method(y0, Delta_t, tfin, alpha)\n",
        "print(\"--- %s segundos ---\" % (time.time() - start_time)) # Cálculo del tiempo de \n",
        "\n",
        "# Solución exacta\n",
        "y_exacta = lambda t, alpha : np.power(t,4)*ml(-np.power(t,alpha),alpha,5)\n",
        "\n",
        "error_absoluto = np.abs(y_exacta(t, alpha) - y_num)\n",
        "ultimo_error = error_absoluto[-1]\n",
        "ultimo_error"
      ]
    },
    {
      "cell_type": "code",
      "execution_count": null,
      "id": "923366d6",
      "metadata": {
        "ExecuteTime": {
          "end_time": "2022-06-29T17:50:52.504888Z",
          "start_time": "2022-06-29T17:50:52.151780Z"
        },
        "id": "923366d6"
      },
      "outputs": [],
      "source": [
        "plt.figure()\n",
        "plt.plot(t,y_exacta(t,alpha), label = 'Exacta')\n",
        "plt.plot(t,y_num, label = 'Numérica')\n",
        "plt.xlabel('t')\n",
        "plt.ylabel('y(t)')\n",
        "plt.grid('on')\n",
        "plt.axis('tight')\n",
        "plt.legend()\n",
        "plt.show()"
      ]
    },
    {
      "cell_type": "markdown",
      "id": "7429c59b",
      "metadata": {
        "id": "7429c59b"
      },
      "source": [
        "### Errores absolutos en $t=1$ para el Ejemplo 1"
      ]
    },
    {
      "cell_type": "code",
      "execution_count": null,
      "id": "7e79cebf",
      "metadata": {
        "ExecuteTime": {
          "end_time": "2022-06-29T17:50:54.369473Z",
          "start_time": "2022-06-29T17:50:54.361714Z"
        },
        "id": "7e79cebf"
      },
      "outputs": [],
      "source": [
        "def get_table(alpha, Delta_t):\n",
        "    \"\"\"Creación de la Tabla 3.4 de la página 111 del libro de Li y Zeng (2015)\"\"\"\n",
        "    \n",
        "    table = np.zeros( (len(Delta_t), len(alpha)) )\n",
        "\n",
        "    for f in prange(len(Delta_t)):\n",
        "        for c in prange(len(alpha)):\n",
        "            t, y_num = forward_Euler_method(y0, 1/Delta_t[f], tfin, alpha[c])\n",
        "            \n",
        "            error_absoluto = np.abs(y_exacta(t, alpha[c]) - y_num)\n",
        "            ultimo_error = error_absoluto[-1]\n",
        "            table[f,c] = ultimo_error\n",
        "            \n",
        "    return table"
      ]
    },
    {
      "cell_type": "code",
      "execution_count": null,
      "id": "a4fa5bd5",
      "metadata": {
        "ExecuteTime": {
          "end_time": "2022-06-29T17:51:06.193737Z",
          "start_time": "2022-06-29T17:50:56.751602Z"
        },
        "id": "a4fa5bd5"
      },
      "outputs": [],
      "source": [
        "alpha = np.array([0.1, 0.3, 0.5, 0.7, 0.9])\n",
        "Delta_t = np.array([10, 20, 40, 80, 160, 320, 640])\n",
        "    \n",
        "pd.DataFrame(get_table(alpha, Delta_t), columns = alpha, index = Delta_t)"
      ]
    },
    {
      "cell_type": "markdown",
      "id": "5e5a2597",
      "metadata": {
        "id": "5e5a2597"
      },
      "source": [
        "## Ejemplo 2. Sistema de Ecuaciones Diferenciales Ordinarias No Lineales Fraccionarias\n",
        "\n",
        "El sistema de Lorenz es un sistema de ecuaciones diferenciales ordinarias propuesto por Edward Lorenz en 1963. Este sistema es también conocido como  atractor de Lorenz y suele asociarse con el *efecto mariposa*. Dicho modelo está dado como sigue\n",
        "\n",
        "\\begin{equation}\n",
        " \\begin{aligned}\n",
        "  \\label{lorenz_cla}\n",
        "  {}^{*}_{0}\\mathcal{D}_{t}^{\\alpha}~ x(t) &= \\sigma(y(t) - x(t)), \\\\\n",
        "  {}^{*}_{0}\\mathcal{D}_{t}^{\\alpha}~ y(t) &=x(t) (\\rho - z(t)) - y(t), \\\\\n",
        "  {}^{*}_{0}\\mathcal{D}_{t}^{\\alpha}~ z(t) &= x(t)y(t) - \\beta z(t),\n",
        " \\end{aligned}\n",
        "\\end{equation}\n",
        "\n",
        "donde $x(t), y(t), z(t)$ representan los estados del sistema mientras que $\\sigma,\\rho,\\beta\\in\\mathbb{R}$ son constantes.\n",
        "\n",
        "La siguiente Figura muestra los sub espacios fase del atractor de Lorenz, considerando $\\sigma = 10$, $\\rho = 28$, $\\beta = 8/3$, $\\alpha = 1$; con condiciones iniciales $x(0)=y(0)=z(0) = 0.1$, paso de integración $\\Delta t = 1e-2$ y un tiempo de simulación $t = 40$."
      ]
    },
    {
      "cell_type": "code",
      "execution_count": null,
      "id": "157cfb24",
      "metadata": {
        "ExecuteTime": {
          "end_time": "2022-06-29T17:51:10.536704Z",
          "start_time": "2022-06-29T17:51:10.524036Z"
        },
        "id": "157cfb24"
      },
      "outputs": [],
      "source": [
        "# Parámetros del modelo\n",
        "sigma = 10.0\n",
        "rho = 28.0\n",
        "beta = 8.0/3.0\n",
        "\n",
        "param = np.array([sigma,rho,beta])\n",
        "\n",
        "# Condiciones iniciales\n",
        "ci = np.array([0.1,0.1,0.1])\n",
        "\n",
        "# Parámetros del método numérico\n",
        "h = 1e-2\n",
        "tfin = 40"
      ]
    },
    {
      "cell_type": "code",
      "execution_count": null,
      "id": "867d64e1",
      "metadata": {
        "ExecuteTime": {
          "end_time": "2022-06-29T17:51:15.101172Z",
          "start_time": "2022-06-29T17:51:15.087422Z"
        },
        "id": "867d64e1"
      },
      "outputs": [],
      "source": [
        "def Euler_method(y0, Delta_t, tfin, param):\n",
        "    \"\"\"Método de Euler clásico hacia adelante\"\"\"\n",
        "    \n",
        "    N = np.int64(np.ceil((tfin-Delta_t)/Delta_t)) # Número de puntos de la solución numérica\n",
        "    t = Delta_t + np.arange(0,N+1)*Delta_t # Vector de tiempo\n",
        "        \n",
        "    sigma = param[0]\n",
        "    rho = param[1]\n",
        "    beta = param[2]\n",
        "    \n",
        "    # EDO clásica\n",
        "    f1 = lambda t, x, y, z : sigma*(y - x)\n",
        "    f2 = lambda t, x, y, z : x*(rho - z) - y\n",
        "    f3 = lambda t, x, y, z : x*y - beta*z\n",
        "\n",
        "    # Condiciones iniciales\n",
        "    x = np.zeros(N+1)\n",
        "    x[0] = y0[0]\n",
        "    \n",
        "    y = np.zeros(N+1)\n",
        "    y[0] = y0[1]\n",
        "    \n",
        "    z = np.zeros(N+1)\n",
        "    z[0] = y0[2]\n",
        "    \n",
        "    for n in prange(N):\n",
        "        x[n+1] = x[n] + f1(t[n],x[n],y[n],z[n])*h\n",
        "        y[n+1] = y[n] + f2(t[n],x[n],y[n],z[n])*h\n",
        "        z[n+1] = z[n] + f3(t[n],x[n],y[n],z[n])*h\n",
        "        \n",
        "    return t,x,y,z"
      ]
    },
    {
      "cell_type": "code",
      "execution_count": null,
      "id": "0866711b",
      "metadata": {
        "ExecuteTime": {
          "end_time": "2022-06-29T17:51:20.689861Z",
          "start_time": "2022-06-29T17:51:20.662274Z"
        },
        "id": "0866711b"
      },
      "outputs": [],
      "source": [
        "start_time = time.time()\n",
        "tc, xc, yc, zc = Euler_method(ci, h, tfin, param)\n",
        "print(\"--- %s segundos ---\" % (time.time() - start_time)) # Cálculo del tiempo de cómputo para Euler clásico"
      ]
    },
    {
      "cell_type": "code",
      "execution_count": null,
      "id": "53be3a27",
      "metadata": {
        "ExecuteTime": {
          "end_time": "2022-06-29T17:51:23.191923Z",
          "start_time": "2022-06-29T17:51:22.548320Z"
        },
        "id": "53be3a27"
      },
      "outputs": [],
      "source": [
        "fig = plt.figure(figsize=plt.figaspect(0.25))\n",
        "fig.suptitle('Atractor de Lorenz clásico')\n",
        "\n",
        "ax = fig.add_subplot(1, 3, 1)\n",
        "ax.plot(xc,yc)\n",
        "ax.set_xlabel('x(t)')\n",
        "ax.set_ylabel('y(t)')\n",
        "ax.grid('on')\n",
        "\n",
        "ax = fig.add_subplot(1, 3, 2)\n",
        "ax.plot(xc,zc)\n",
        "ax.set_xlabel('x(t)')\n",
        "ax.set_ylabel('z(t)')\n",
        "ax.grid('on')\n",
        "\n",
        "ax = fig.add_subplot(1, 3, 3)\n",
        "ax.plot(yc, zc)\n",
        "ax.set_xlabel('y(t)')\n",
        "ax.set_ylabel('z(t)')\n",
        "ax.grid('on')\n",
        "\n",
        "plt.show()"
      ]
    },
    {
      "cell_type": "markdown",
      "id": "ca351703",
      "metadata": {
        "id": "ca351703"
      },
      "source": [
        "Aplicando el método de Euler al atractor de Lorenz, definimos la siguiente función. Donde $f_{1}$, $f_{2}$ y $f_{3}$ representan cada una de las ecuaciones diferenciales ordinarias."
      ]
    },
    {
      "cell_type": "code",
      "execution_count": null,
      "id": "bf3ce7b5",
      "metadata": {
        "ExecuteTime": {
          "end_time": "2022-06-29T17:51:28.169441Z",
          "start_time": "2022-06-29T17:51:28.148256Z"
        },
        "id": "bf3ce7b5"
      },
      "outputs": [],
      "source": [
        "@jit(nopython=True)\n",
        "def forward_Euler_method_EDO(x0, Delta_t, tfin, alpha, param):\n",
        "    \"\"\"Método de Euler fraccionario hacia adelante\"\"\"\n",
        "    \n",
        "    N = np.int64(np.ceil((tfin-Delta_t)/Delta_t)) # Número de puntos de la solución numérica\n",
        "    t = Delta_t + np.arange(0,N+1)*Delta_t # Vector de tiempo\n",
        "        \n",
        "    # Variable declarada para reducir costo computacional y evitar que en cada iteración se vuelva a calcular un valor constante\n",
        "    gamma_alpha = math.gamma(alpha + 1.0)\n",
        "    \n",
        "    sigma = param[0]\n",
        "    rho = param[1]\n",
        "    beta = param[2]\n",
        "    \n",
        "    # EDO fraccionaria\n",
        "    f1 = lambda t, x, y, z : sigma*(y - x)\n",
        "    f2 = lambda t, x, y, z : x*(rho - z) - y\n",
        "    f3 = lambda t, x, y, z : x*y - beta*z\n",
        "\n",
        "    # Condiciones iniciales\n",
        "    x = np.zeros(N+1)\n",
        "    x[0] = x0[0]\n",
        "    \n",
        "    y = np.zeros(N+1)\n",
        "    y[0] = x0[1]\n",
        "    \n",
        "    z = np.zeros(N+1)\n",
        "    z[0] = x0[2]\n",
        "\n",
        "    for n in prange(N):\n",
        "        sum_bj_x = 0\n",
        "        sum_bj_y = 0\n",
        "        sum_bj_z = 0\n",
        "\n",
        "        for j in prange(n+1):\n",
        "            bj = np.power(n-j+1,alpha) - np.power(n-j,alpha) # Fórmula rectangular fraccionaria izquierda\n",
        "            sum_bj_x = sum_bj_x + bj*f1(t[j],x[j],y[j],z[j])\n",
        "            sum_bj_y = sum_bj_y + bj*f2(t[j],x[j],y[j],z[j])\n",
        "            sum_bj_z = sum_bj_z + bj*f3(t[j],x[j],y[j],z[j])\n",
        "            \n",
        "        x[n+1] = x[0] + np.power(Delta_t,alpha)*(1/gamma_alpha)*sum_bj_x\n",
        "        y[n+1] = y[0] + np.power(Delta_t,alpha)*(1/gamma_alpha)*sum_bj_y\n",
        "        z[n+1] = z[0] + np.power(Delta_t,alpha)*(1/gamma_alpha)*sum_bj_z\n",
        "\n",
        "    return t, x, y, z"
      ]
    },
    {
      "cell_type": "markdown",
      "id": "69d01a2c",
      "metadata": {
        "id": "69d01a2c"
      },
      "source": [
        "Considerando los mismos parámetros y condiciones iniciales, así como tiempo de simulación y paso te integración. Realizamos la llamada a la función anteriormente definida"
      ]
    },
    {
      "cell_type": "code",
      "execution_count": null,
      "id": "442ad9c9",
      "metadata": {
        "ExecuteTime": {
          "end_time": "2022-06-29T17:51:35.306538Z",
          "start_time": "2022-06-29T17:51:33.547564Z"
        },
        "id": "442ad9c9"
      },
      "outputs": [],
      "source": [
        "alpha = 1 # Conforme $\\alpha \\rightarrow 1$, se recupera el caso clásico\n",
        "\n",
        "start_time = time.time()\n",
        "t, x, y, z = forward_Euler_method_EDO(ci, h, tfin, alpha, param)\n",
        "print(\"--- %s segundos ---\" % (time.time() - start_time)) # Cálculo del tiempo de  cómputo para Euler fraccionario"
      ]
    },
    {
      "cell_type": "markdown",
      "id": "0fd826ac",
      "metadata": {
        "id": "0fd826ac"
      },
      "source": [
        "Para analizar numéricamente la convergencia del método de Euler fraccionario, definimos el valor absoluto del error para graficarlo junto con las trayectorias del atractor de Lorens, *i.e.*\n",
        "\n",
        "\\begin{equation}\n",
        " e_{x}(t) = \\text{abs}\\left(x_{Ec}(t) - x_{Ef}(t) \\right),\n",
        "\\end{equation}\n",
        "\n",
        "\\begin{equation}\n",
        " e_{y}(t) = \\text{abs}\\left(y_{Ec}(t) - y_{Ef}(t) \\right),\n",
        "\\end{equation}\n",
        "\n",
        "\\begin{equation}\n",
        " e_{z}(t) = \\text{abs}\\left(z_{Ec}(t) - z_{Ef}(t) \\right),\n",
        "\\end{equation}\n",
        "\n",
        "donde ${}_{Ec}$ y ${}_{Ef}$ representan Euler clásico y Euler fraccionario, respectivamente."
      ]
    },
    {
      "cell_type": "code",
      "execution_count": null,
      "id": "f4e87136",
      "metadata": {
        "ExecuteTime": {
          "end_time": "2022-06-29T17:51:40.782543Z",
          "start_time": "2022-06-29T17:51:39.650221Z"
        },
        "id": "f4e87136"
      },
      "outputs": [],
      "source": [
        "fig = plt.figure(figsize=plt.figaspect(0.25))\n",
        "fig.suptitle('Atractor de Lorenz')\n",
        "\n",
        "ax = fig.add_subplot(1, 2, 1)\n",
        "ax.plot(tc, xc, label = 'Clásico')\n",
        "ax.plot(t, x, '--', label = 'Fraccionario')\n",
        "ax.set_xlabel('t')\n",
        "ax.set_ylabel('x(t)')\n",
        "ax.legend()\n",
        "ax.grid('on')\n",
        "\n",
        "ax = fig.add_subplot(1, 2 , 2)\n",
        "ax.plot(t,np.abs(xc-x))\n",
        "ax.set_xlabel('t')\n",
        "ax.set_ylabel('$e_{x}(t)$')\n",
        "ax.grid('on')\n",
        "\n",
        "plt.show()"
      ]
    },
    {
      "cell_type": "code",
      "execution_count": null,
      "id": "649733fb",
      "metadata": {
        "ExecuteTime": {
          "end_time": "2022-06-29T17:51:48.639976Z",
          "start_time": "2022-06-29T17:51:48.071357Z"
        },
        "id": "649733fb"
      },
      "outputs": [],
      "source": [
        "fig = plt.figure(figsize=plt.figaspect(0.25))\n",
        "fig.suptitle('Atractor de Lorenz')\n",
        "\n",
        "ax = fig.add_subplot(1, 2, 1)\n",
        "ax.plot(tc, yc, label = 'Clásico')\n",
        "ax.plot(t, y, '--', label = 'Fraccionario')\n",
        "ax.set_xlabel('t')\n",
        "ax.set_ylabel('y(t)')\n",
        "ax.legend()\n",
        "ax.grid('on')\n",
        "\n",
        "ax = fig.add_subplot(1, 2 , 2)\n",
        "ax.plot(t,np.abs(yc-y))\n",
        "ax.set_xlabel('t')\n",
        "ax.set_ylabel('$e_{y}(t)$')\n",
        "ax.grid('on')\n",
        "\n",
        "plt.show()"
      ]
    },
    {
      "cell_type": "code",
      "execution_count": null,
      "id": "2e4563fc",
      "metadata": {
        "ExecuteTime": {
          "end_time": "2022-06-29T17:51:51.533381Z",
          "start_time": "2022-06-29T17:51:51.013557Z"
        },
        "id": "2e4563fc"
      },
      "outputs": [],
      "source": [
        "fig = plt.figure(figsize=plt.figaspect(0.25))\n",
        "fig.suptitle('Atractor de Lorenz')\n",
        "\n",
        "ax = fig.add_subplot(1, 2, 1)\n",
        "ax.plot(tc, zc, label = 'Clásico')\n",
        "ax.plot(t, z, '--', label = 'Fraccionario')\n",
        "ax.set_xlabel('t')\n",
        "ax.set_ylabel('z(t)')\n",
        "ax.legend()\n",
        "ax.grid('on')\n",
        "\n",
        "ax = fig.add_subplot(1, 2 , 2)\n",
        "ax.plot(t,np.abs(zc-z))\n",
        "ax.set_xlabel('t')\n",
        "ax.set_ylabel('$e_{z}(t)$')\n",
        "ax.grid('on')\n",
        "\n",
        "plt.show()"
      ]
    },
    {
      "cell_type": "markdown",
      "id": "d6e845fb",
      "metadata": {
        "id": "d6e845fb"
      },
      "source": [
        "**Nota.** Pruebe con diferentes valores para ver la divergencia con respecto a la solución clásica tal y cómo se hizo en la Tabla del Ejemplo 1 de este cuaderno."
      ]
    },
    {
      "cell_type": "code",
      "execution_count": null,
      "id": "40334316",
      "metadata": {
        "ExecuteTime": {
          "end_time": "2022-06-29T17:54:01.400994Z",
          "start_time": "2022-06-29T17:52:46.507078Z"
        },
        "id": "40334316"
      },
      "outputs": [],
      "source": [
        "h = 1e-3\n",
        "\n",
        "start_time = time.time()\n",
        "tc, xc, yc, zc = Euler_method(ci, h, tfin, param)\n",
        "print(\"--- %s segundos ---\" % (time.time() - start_time)) # Cálculo del tiempo de cómputo para Euler clásico\n",
        "\n",
        "start_time = time.time()\n",
        "t, x, y, z = forward_Euler_method_EDO(ci, h, tfin, alpha, param)\n",
        "print(\"--- %s segundos ---\" % (time.time() - start_time)) # Cálculo del tiempo de  cómputo para Euler fraccionario"
      ]
    },
    {
      "cell_type": "code",
      "execution_count": null,
      "id": "6a172fa5",
      "metadata": {
        "ExecuteTime": {
          "end_time": "2022-06-29T17:54:05.681253Z",
          "start_time": "2022-06-29T17:54:04.767621Z"
        },
        "id": "6a172fa5"
      },
      "outputs": [],
      "source": [
        "fig = plt.figure(figsize=plt.figaspect(0.25))\n",
        "fig.suptitle('Atractor de Lorenz')\n",
        "\n",
        "ax = fig.add_subplot(1, 2, 1)\n",
        "ax.plot(tc, xc, label = 'Clásico')\n",
        "ax.plot(t, x, '--', label = 'Fraccionario')\n",
        "ax.set_xlabel('t')\n",
        "ax.set_ylabel('x(t)')\n",
        "ax.legend()\n",
        "ax.grid('on')\n",
        "\n",
        "ax = fig.add_subplot(1, 2 , 2)\n",
        "ax.plot(t,np.abs(xc-x))\n",
        "ax.set_xlabel('t')\n",
        "ax.set_ylabel('$e_{x}(t)$')\n",
        "ax.grid('on')\n",
        "\n",
        "plt.show()"
      ]
    },
    {
      "cell_type": "code",
      "execution_count": null,
      "id": "ff67b9cf",
      "metadata": {
        "ExecuteTime": {
          "end_time": "2022-06-29T17:54:09.987886Z",
          "start_time": "2022-06-29T17:54:09.256095Z"
        },
        "id": "ff67b9cf"
      },
      "outputs": [],
      "source": [
        "fig = plt.figure(figsize=plt.figaspect(0.25))\n",
        "fig.suptitle('Atractor de Lorenz')\n",
        "\n",
        "ax = fig.add_subplot(1, 2, 1)\n",
        "ax.plot(tc, yc, label = 'Clásico')\n",
        "ax.plot(t, y, '--', label = 'Fraccionario')\n",
        "ax.set_xlabel('t')\n",
        "ax.set_ylabel('y(t)')\n",
        "ax.legend()\n",
        "ax.grid('on')\n",
        "\n",
        "ax = fig.add_subplot(1, 2 , 2)\n",
        "ax.plot(t,np.abs(yc-y))\n",
        "ax.set_xlabel('t')\n",
        "ax.set_ylabel('$e_{y}(t)$')\n",
        "ax.grid('on')\n",
        "\n",
        "plt.show()"
      ]
    },
    {
      "cell_type": "code",
      "execution_count": null,
      "id": "b4ada25c",
      "metadata": {
        "ExecuteTime": {
          "end_time": "2022-06-29T17:54:13.429964Z",
          "start_time": "2022-06-29T17:54:12.804649Z"
        },
        "id": "b4ada25c"
      },
      "outputs": [],
      "source": [
        "fig = plt.figure(figsize=plt.figaspect(0.25))\n",
        "fig.suptitle('Atractor de Lorenz')\n",
        "\n",
        "ax = fig.add_subplot(1, 2, 1)\n",
        "ax.plot(tc, zc, label = 'Clásico')\n",
        "ax.plot(t, z, '--', label = 'Fraccionario')\n",
        "ax.set_xlabel('t')\n",
        "ax.set_ylabel('z(t)')\n",
        "ax.legend()\n",
        "ax.grid('on')\n",
        "\n",
        "ax = fig.add_subplot(1, 2 , 2)\n",
        "ax.plot(t,np.abs(zc-z))\n",
        "ax.set_xlabel('t')\n",
        "ax.set_ylabel('$e_{z}(t)$')\n",
        "ax.grid('on')\n",
        "\n",
        "plt.show()"
      ]
    },
    {
      "cell_type": "markdown",
      "id": "9899035e",
      "metadata": {
        "id": "9899035e"
      },
      "source": [
        "### Dinámicas fraccionarias del atractor de Lorenz\n",
        "\n",
        "Para llevar analizar el método de Euler fraccionario con el atractor de Lorenz fraccionario, realizamos una simulación considerando los mismos parámetros, condiciones iniciales así como tiempo de simulación y paso de integración. Para este caso en particular, elegimos $\\alpha = 0.98$ y graficamos sus comportamientos"
      ]
    },
    {
      "cell_type": "code",
      "execution_count": null,
      "id": "4c2c5ab1",
      "metadata": {
        "ExecuteTime": {
          "end_time": "2022-06-29T17:57:17.262670Z",
          "start_time": "2022-06-29T17:57:16.688555Z"
        },
        "id": "4c2c5ab1"
      },
      "outputs": [],
      "source": [
        "h = 1e-2\n",
        "alpha = 0.98 # Conforme $\\alpha \\rightarrow 1$, se recupera el caso clásico\n",
        "\n",
        "start_time = time.time()\n",
        "tc, xc, yc, zc = Euler_method(ci, h, tfin, param)\n",
        "print(\"--- %s segundos ---\" % (time.time() - start_time)) # Cálculo del tiempo de cómputo para Euler clásico\n",
        "\n",
        "start_time = time.time()\n",
        "t, x, y, z = forward_Euler_method_EDO(ci, h, tfin, alpha, param)\n",
        "print(\"--- %s segundos ---\" % (time.time() - start_time)) # Cálculo del tiempo de  cómputo para Euler fraccionario"
      ]
    },
    {
      "cell_type": "code",
      "execution_count": null,
      "id": "0ac4c85f",
      "metadata": {
        "ExecuteTime": {
          "end_time": "2022-06-29T17:57:20.178168Z",
          "start_time": "2022-06-29T17:57:19.655759Z"
        },
        "id": "0ac4c85f"
      },
      "outputs": [],
      "source": [
        "fig = plt.figure(figsize=plt.figaspect(0.25))\n",
        "fig.suptitle('Atractor de Lorenz fraccionario')\n",
        "\n",
        "ax = fig.add_subplot(1, 3, 1)\n",
        "ax.plot(x,y)\n",
        "ax.set_xlabel('x(t)')\n",
        "ax.set_ylabel('y(t)')\n",
        "ax.grid('on')\n",
        "\n",
        "ax = fig.add_subplot(1, 3, 2)\n",
        "ax.plot(x,z)\n",
        "ax.set_xlabel('x(t)')\n",
        "ax.set_ylabel('z(t)')\n",
        "ax.grid('on')\n",
        "\n",
        "ax = fig.add_subplot(1, 3, 3)\n",
        "ax.plot(y, z)\n",
        "ax.set_xlabel('y(t)')\n",
        "ax.set_ylabel('z(t)')\n",
        "ax.grid('on')\n",
        "\n",
        "plt.show()"
      ]
    },
    {
      "cell_type": "code",
      "execution_count": null,
      "id": "3b4ae2ff",
      "metadata": {
        "ExecuteTime": {
          "end_time": "2022-06-29T17:57:23.662667Z",
          "start_time": "2022-06-29T17:57:22.967256Z"
        },
        "id": "3b4ae2ff"
      },
      "outputs": [],
      "source": [
        "fig = plt.figure(figsize=plt.figaspect(0.25))\n",
        "fig.suptitle('Atractor de Lorenz fraccionario')\n",
        "\n",
        "ax = fig.add_subplot(1, 3, 1)\n",
        "ax.plot(x,y, label = 'Fraccionario')\n",
        "ax.plot(xc,yc, label = 'Clásico')\n",
        "ax.set_xlabel('x(t)')\n",
        "ax.set_ylabel('y(t)')\n",
        "ax.legend()\n",
        "ax.grid('on')\n",
        "\n",
        "ax = fig.add_subplot(1, 3, 2)\n",
        "ax.plot(x,z, label = 'Fraccionario')\n",
        "ax.plot(xc,zc, label = 'Clásico')\n",
        "ax.set_xlabel('x(t)')\n",
        "ax.set_ylabel('z(t)')\n",
        "ax.legend()\n",
        "ax.grid('on')\n",
        "\n",
        "ax = fig.add_subplot(1, 3, 3)\n",
        "ax.plot(y,z, label = 'Fraccionario')\n",
        "ax.plot(yc,zc, label = 'Clásico')\n",
        "ax.legend()\n",
        "ax.grid('on')\n",
        "\n",
        "plt.show()"
      ]
    },
    {
      "cell_type": "markdown",
      "id": "19965c71",
      "metadata": {
        "id": "19965c71"
      },
      "source": [
        "---\n",
        "\n",
        "# Referencias\n",
        "* Li, C., & Zeng, F. (2015). *Numerical methods for fractional calculus* (Vol. 24). CRC Press.\n",
        "* Hinsen, K. (2017). The Mittag-Leffler function in Python [Computer software]"
      ]
    }
  ],
  "metadata": {
    "hide_input": false,
    "kernelspec": {
      "display_name": "Python 3 (ipykernel)",
      "language": "python",
      "name": "python3"
    },
    "language_info": {
      "codemirror_mode": {
        "name": "ipython",
        "version": 3
      },
      "file_extension": ".py",
      "mimetype": "text/x-python",
      "name": "python",
      "nbconvert_exporter": "python",
      "pygments_lexer": "ipython3",
      "version": "3.9.12"
    },
    "toc": {
      "base_numbering": 1,
      "nav_menu": {},
      "number_sections": true,
      "sideBar": true,
      "skip_h1_title": false,
      "title_cell": "Table of Contents",
      "title_sidebar": "Contents",
      "toc_cell": false,
      "toc_position": {},
      "toc_section_display": true,
      "toc_window_display": false
    },
    "varInspector": {
      "cols": {
        "lenName": 16,
        "lenType": 16,
        "lenVar": 40
      },
      "kernels_config": {
        "python": {
          "delete_cmd_postfix": "",
          "delete_cmd_prefix": "del ",
          "library": "var_list.py",
          "varRefreshCmd": "print(var_dic_list())"
        },
        "r": {
          "delete_cmd_postfix": ") ",
          "delete_cmd_prefix": "rm(",
          "library": "var_list.r",
          "varRefreshCmd": "cat(var_dic_list()) "
        }
      },
      "types_to_exclude": [
        "module",
        "function",
        "builtin_function_or_method",
        "instance",
        "_Feature"
      ],
      "window_display": false
    },
    "colab": {
      "name": "01_Metodo_de_Euler_fraccionario.ipynb",
      "provenance": [],
      "include_colab_link": true
    }
  },
  "nbformat": 4,
  "nbformat_minor": 5
}